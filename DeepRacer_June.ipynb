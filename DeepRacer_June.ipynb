{
  "nbformat": 4,
  "nbformat_minor": 0,
  "metadata": {
    "colab": {
      "provenance": [],
      "authorship_tag": "ABX9TyN0T89dM9kHT7HH3/K0ehoF",
      "include_colab_link": true
    },
    "kernelspec": {
      "name": "python3",
      "display_name": "Python 3"
    },
    "language_info": {
      "name": "python"
    }
  },
  "cells": [
    {
      "cell_type": "markdown",
      "metadata": {
        "id": "view-in-github",
        "colab_type": "text"
      },
      "source": [
        "<a href=\"https://colab.research.google.com/github/Gayatri-Shastri7/100Days_Coding_Challenge/blob/main/DeepRacer_June.ipynb\" target=\"_parent\"><img src=\"https://colab.research.google.com/assets/colab-badge.svg\" alt=\"Open In Colab\"/></a>"
      ]
    },
    {
      "cell_type": "markdown",
      "source": [],
      "metadata": {
        "id": "-3Wbm9KSX3NN"
      }
    },
    {
      "cell_type": "code",
      "execution_count": 3,
      "metadata": {
        "colab": {
          "base_uri": "https://localhost:8080/"
        },
        "id": "BGo1v03yXaSq",
        "outputId": "c331d3d5-b1ad-45dc-83f4-42280e4cabba"
      },
      "outputs": [
        {
          "output_type": "stream",
          "name": "stdout",
          "text": [
            "Cloning into 'waypoint-visualization'...\n",
            "remote: Enumerating objects: 28, done.\u001b[K\n",
            "remote: Total 28 (delta 0), reused 0 (delta 0), pack-reused 28\u001b[K\n",
            "Receiving objects: 100% (28/28), 85.29 KiB | 766.00 KiB/s, done.\n",
            "Resolving deltas: 100% (5/5), done.\n"
          ]
        }
      ],
      "source": [
        "!git clone https://github.com/ARCC-RACE/waypoint-visualization\n"
      ]
    },
    {
      "cell_type": "code",
      "source": [
        "cd waypoint-visualization\n"
      ],
      "metadata": {
        "colab": {
          "base_uri": "https://localhost:8080/"
        },
        "id": "18FJq0iLXsQP",
        "outputId": "ab022cb5-a1a8-41c5-8b49-b63cd09dc5e5"
      },
      "execution_count": 4,
      "outputs": [
        {
          "output_type": "stream",
          "name": "stdout",
          "text": [
            "/content/waypoint-visualization\n"
          ]
        }
      ]
    },
    {
      "cell_type": "code",
      "source": [
        "import matplotlib.pyplot as plt\n",
        "import numpy as np\n",
        "# Track Name from Tracks List\n",
        "track_name = \"cosmic_loop\"\n",
        "# Location of tracks folder\n",
        "\n",
        "# Get waypoints from numpy file\n",
        "waypoints = np.load(\"/content/waypoint-visualization/%s.npy\" % (track_name))\n",
        "# Get number of waypoints\n",
        "print(\"Number of waypoints = \" + str(waypoints.shape[0]))\n",
        "# Plot waypoints\n",
        "for i, point in enumerate(waypoints):\n",
        "    waypoint = (point[2], point[3])\n",
        "    plt.scatter(waypoint[0], waypoint[1])\n",
        "    print(\"Waypoint \" + str(i) + \": \" + str(waypoint))\n",
        "\n",
        "plt.show\n"
      ],
      "metadata": {
        "colab": {
          "base_uri": "https://localhost:8080/",
          "height": 1000
        },
        "id": "bTU53sgtYEeO",
        "outputId": "946bde21-e082-4577-c836-f3fac7a65ee3"
      },
      "execution_count": 7,
      "outputs": [
        {
          "output_type": "stream",
          "name": "stdout",
          "text": [
            "Number of waypoints = 155\n",
            "Waypoint 0: (1.6349649429321307, -3.4265999794006348)\n",
            "Waypoint 1: (1.9368059635162354, -3.4265999794006348)\n",
            "Waypoint 2: (2.2386460304260254, -3.4265999794006348)\n",
            "Waypoint 3: (2.540487051010132, -3.4265999794006348)\n",
            "Waypoint 4: (2.8423280715942383, -3.4265999794006348)\n",
            "Waypoint 5: (3.144167900085449, -3.4265999794006348)\n",
            "Waypoint 6: (3.4460089206695574, -3.4265999794006348)\n",
            "Waypoint 7: (3.7478489875793475, -3.4265999794006348)\n",
            "Waypoint 8: (4.049689769744875, -3.4265999794006348)\n",
            "Waypoint 9: (4.351530075073242, -3.4265999794006348)\n",
            "Waypoint 10: (4.6533708572387695, -3.4265999794006348)\n",
            "Waypoint 11: (4.955212116241457, -3.4265999794006348)\n",
            "Waypoint 12: (5.257051944732666, -3.4265999794006348)\n",
            "Waypoint 13: (5.558893203735352, -3.4265999794006348)\n",
            "Waypoint 14: (5.8607330322265625, -3.4265999794006348)\n",
            "Waypoint 15: (6.16257381439209, -3.4265999794006348)\n",
            "Waypoint 16: (6.464696884155273, -3.4265999794006348)\n",
            "Waypoint 17: (6.764965057373047, -3.426922082901001)\n",
            "Waypoint 18: (6.96386194229126, -3.4352309703826904)\n",
            "Waypoint 19: (7.033779144287109, -3.413114070892334)\n",
            "Waypoint 20: (7.074143886566162, -3.3590729236602783)\n",
            "Waypoint 21: (7.108334064483643, -3.2304599285125732)\n",
            "Waypoint 22: (7.122409820556641, -3.004983901977539)\n",
            "Waypoint 23: (7.1300129890441895, -2.7204809188842773)\n",
            "Waypoint 24: (7.133875846862793, -2.4252190589904785)\n",
            "Waypoint 25: (7.134676933288574, -2.1289849281311035)\n",
            "Waypoint 26: (7.132328033447266, -1.832334041595459)\n",
            "Waypoint 27: (7.127356052398682, -1.5349730253219604)\n",
            "Waypoint 28: (7.119964122772217, -1.2340459823608398)\n",
            "Waypoint 29: (7.119521141052246, -0.9981284141540527)\n",
            "Waypoint 30: (7.10106086730957, -0.8918315172195435)\n",
            "Waypoint 31: (7.036794185638428, -0.8338329195976257)\n",
            "Waypoint 32: (6.877906799316406, -0.7550250887870789)\n",
            "Waypoint 33: (6.654489040374756, -0.6723073124885559)\n",
            "Waypoint 34: (6.401528835296631, -0.6064574718475342)\n",
            "Waypoint 35: (6.128367900848389, -0.5496131181716919)\n",
            "Waypoint 36: (5.847259044647217, -0.5010836124420166)\n",
            "Waypoint 37: (5.561758041381839, -0.4598762989044193)\n",
            "Waypoint 38: (5.272900104522705, -0.4247933030128479)\n",
            "Waypoint 39: (4.981606960296631, -0.3947770893573761)\n",
            "Waypoint 40: (4.688981056213379, -0.36921191215515137)\n",
            "Waypoint 41: (4.396056175231934, -0.3479830026626587)\n",
            "Waypoint 42: (4.071427822113037, -0.328889399766922)\n",
            "Waypoint 43: (3.7468578815460205, -0.27725520730018616)\n",
            "Waypoint 44: (3.3711750507354736, -0.2108653038740158)\n",
            "Waypoint 45: (2.9806950092315674, -0.020692160353064537)\n",
            "Waypoint 46: (2.6616768836975133, 0.23237499594688132)\n",
            "Waypoint 47: (2.423485040664673, 0.505304217338562)\n",
            "Waypoint 48: (2.233534097671512, 0.7443184852600059)\n",
            "Waypoint 49: (2.0528390407562256, 0.9597288966178894)\n",
            "Waypoint 50: (1.8662049770355225, 1.1605859994888306)\n",
            "Waypoint 51: (1.6686249971389744, 1.3516750335693384)\n",
            "Waypoint 52: (1.4618899822235107, 1.5333869457244873)\n",
            "Waypoint 53: (1.2600300312042236, 1.6938790082931519)\n",
            "Waypoint 54: (1.0515429973602295, 1.8235100507736206)\n",
            "Waypoint 55: (0.8345662951469388, 1.9309580326080333)\n",
            "Waypoint 56: (0.6296300292015076, 2.003446102142334)\n",
            "Waypoint 57: (0.469740092754364, 2.031230926513672)\n",
            "Waypoint 58: (0.38904741406440735, 2.0250589847564697)\n",
            "Waypoint 59: (0.35114389657974243, 1.989063024520874)\n",
            "Waypoint 60: (0.30783960223197937, 1.8805559873580933)\n",
            "Waypoint 61: (0.27159538865089417, 1.67119300365448)\n",
            "Waypoint 62: (0.24011340737342834, 1.395656943321228)\n",
            "Waypoint 63: (0.211245194077492, 1.1040680408477808)\n",
            "Waypoint 64: (0.18715770542621588, 0.8108215928077662)\n",
            "Waypoint 65: (0.1664671003818512, 0.5165082812309265)\n",
            "Waypoint 66: (0.1479271948337555, 0.1966457962989807)\n",
            "Waypoint 67: (0.07558002322912256, -0.23351250588893652)\n",
            "Waypoint 68: (-0.2124239057302475, -0.6820980906486511)\n",
            "Waypoint 69: (-0.6667237281799316, -0.9611040949821472)\n",
            "Waypoint 70: (-1.0912350416183472, -1.0241379737854004)\n",
            "Waypoint 71: (-1.414612054824829, -1.0446490049362183)\n",
            "Waypoint 72: (-1.7326430082321167, -1.0561649799346924)\n",
            "Waypoint 73: (-2.054879903793335, -1.056547999382019)\n",
            "Waypoint 74: (-2.380776882171631, -1.0433770418167114)\n",
            "Waypoint 75: (-2.7110369205474854, -1.0134819746017456)\n",
            "Waypoint 76: (-3.0469889640808105, -0.9618377089500427)\n",
            "Waypoint 77: (-3.390202045440674, -0.8800243139266968)\n",
            "Waypoint 78: (-3.7413930892944336, -0.7534564733505249)\n",
            "Waypoint 79: (-4.095684051513672, -0.5569084286689758)\n",
            "Waypoint 80: (-4.4252190589904785, -0.2559986114501953)\n",
            "Waypoint 81: (-4.660529136657715, 0.1542614996433258)\n",
            "Waypoint 82: (-4.749319076538086, 0.6069803833961487)\n",
            "Waypoint 83: (-4.717175006866455, 1.0287309885025024)\n",
            "Waypoint 84: (-4.617737770080566, 1.3950910568237305)\n",
            "Waypoint 85: (-4.501534938812256, 1.6921470165252686)\n",
            "Waypoint 86: (-4.411287784576416, 1.952273964881897)\n",
            "Waypoint 87: (-4.336813926696777, 2.215862989425659)\n",
            "Waypoint 88: (-4.274302959442139, 2.4840080738067627)\n",
            "Waypoint 89: (-4.226653099060059, 2.7509419918060303)\n",
            "Waypoint 90: (-4.196753978729248, 3.0092999935150146)\n",
            "Waypoint 91: (-4.190712928771973, 3.2393949031829834)\n",
            "Waypoint 92: (-4.199528217315674, 3.3732569217681885)\n",
            "Waypoint 93: (-4.217825889587402, 3.4065470695495605)\n",
            "Waypoint 94: (-4.289363861083984, 3.4281980991363525)\n",
            "Waypoint 95: (-4.4398908615112305, 3.4400880336761475)\n",
            "Waypoint 96: (-4.634859085083008, 3.413322925567627)\n",
            "Waypoint 97: (-4.8522748947143555, 3.347862958908081)\n",
            "Waypoint 98: (-5.078804016113281, 3.249758005142212)\n",
            "Waypoint 99: (-5.307896137237549, 3.1259419918060303)\n",
            "Waypoint 100: (-5.535709857940674, 2.9823060035705566)\n",
            "Waypoint 101: (-5.760228157043457, 2.8231189250946045)\n",
            "Waypoint 102: (-5.980886936187744, 2.651150941848755)\n",
            "Waypoint 103: (-6.197789192199707, 2.468686103820801)\n",
            "Waypoint 104: (-6.410904884338379, 2.277631998062134)\n",
            "Waypoint 105: (-6.620337963104248, 2.0794179439544678)\n",
            "Waypoint 106: (-6.826272010803223, 1.8751389980316162)\n",
            "Waypoint 107: (-7.005949020385742, 1.6914570331573486)\n",
            "Waypoint 108: (-7.005949020385742, 1.6914570331573486)\n",
            "Waypoint 109: (-7.107006072998047, 1.563423991203308)\n",
            "Waypoint 110: (-7.133214950561523, 1.45386803150177)\n",
            "Waypoint 111: (-7.111478805541992, 1.2741409540176392)\n",
            "Waypoint 112: (-7.053587913513184, 0.9959480166435242)\n",
            "Waypoint 113: (-7.00147819519043, 0.6438382863998413)\n",
            "Waypoint 114: (-7.002721786499023, 0.2520543932914734)\n",
            "Waypoint 115: (-7.065601825714111, -0.08992116898298264)\n",
            "Waypoint 116: (-7.111041069030762, -0.33378368616104126)\n",
            "Waypoint 117: (-7.107230186462402, -0.5556685924530029)\n",
            "Waypoint 118: (-7.076150894165039, -0.801817774772644)\n",
            "Waypoint 119: (-7.021471977233887, -1.0552010536193848)\n",
            "Waypoint 120: (-6.94736909866333, -1.3091549873352055)\n",
            "Waypoint 121: (-6.855882167816162, -1.5585639476776123)\n",
            "Waypoint 122: (-6.747716903686523, -1.8012440204620361)\n",
            "Waypoint 123: (-6.623827934265137, -2.0352959632873535)\n",
            "Waypoint 124: (-6.484607219696045, -2.258435010910034)\n",
            "Waypoint 125: (-6.330585956573486, -2.468724012374878)\n",
            "Waypoint 126: (-6.1623969078063965, -2.66365909576416)\n",
            "Waypoint 127: (-5.980659008026123, -2.8407959938049316)\n",
            "Waypoint 128: (-5.78626823425293, -2.9977049827575684)\n",
            "Waypoint 129: (-5.580350875854492, -3.1319899559020996)\n",
            "Waypoint 130: (-5.363592147827148, -3.2418830394744873)\n",
            "Waypoint 131: (-5.136843204498291, -3.3265368938446045)\n",
            "Waypoint 132: (-4.901423931121827, -3.3853940963745117)\n",
            "Waypoint 133: (-4.658098220825195, -3.4185149669647217)\n",
            "Waypoint 134: (-4.393211841583253, -3.427053928375244)\n",
            "Waypoint 135: (-4.100447177886964, -3.4263529777526855)\n",
            "Waypoint 136: (-3.797895908355713, -3.426485061645508)\n",
            "Waypoint 137: (-3.4961531162261976, -3.42665696144104)\n",
            "Waypoint 138: (-3.194514036178589, -3.4266788959503174)\n",
            "Waypoint 139: (-2.8927218914031982, -3.4266231060028076)\n",
            "Waypoint 140: (-2.5908420085906982, -3.4265899658203125)\n",
            "Waypoint 141: (-2.2889630794525146, -3.426578998565674)\n",
            "Waypoint 142: (-1.9871050119400024, -3.4265880584716797)\n",
            "Waypoint 143: (-1.6852680444717407, -3.4265971183776855)\n",
            "Waypoint 144: (-1.3834340572357178, -3.426603078842163)\n",
            "Waypoint 145: (-1.0815999507904053, -3.4266040325164795)\n",
            "Waypoint 146: (-0.779762327671051, -3.426603078842163)\n",
            "Waypoint 147: (-0.4779213070869446, -3.426600933074951)\n",
            "Waypoint 148: (-0.17607970535755157, -3.4265999794006348)\n",
            "Waypoint 149: (0.1257620006799698, -3.4265990257263184)\n",
            "Waypoint 150: (0.4276033043861389, -3.4265990257263184)\n",
            "Waypoint 151: (0.7294440865516663, -3.4265999794006348)\n",
            "Waypoint 152: (1.031283974647522, -3.4265999794006348)\n",
            "Waypoint 153: (1.3331249952316284, -3.4265999794006348)\n",
            "Waypoint 154: (1.6349649429321307, -3.4265999794006348)\n"
          ]
        },
        {
          "output_type": "execute_result",
          "data": {
            "text/plain": [
              "<function matplotlib.pyplot.show(close=None, block=None)>"
            ],
            "text/html": [
              "<div style=\"max-width:800px; border: 1px solid var(--colab-border-color);\"><style>\n",
              "      pre.function-repr-contents {\n",
              "        overflow-x: auto;\n",
              "        padding: 8px 12px;\n",
              "        max-height: 500px;\n",
              "      }\n",
              "\n",
              "      pre.function-repr-contents.function-repr-contents-collapsed {\n",
              "        cursor: pointer;\n",
              "        max-height: 100px;\n",
              "      }\n",
              "    </style>\n",
              "    <pre style=\"white-space: initial; background:\n",
              "         var(--colab-secondary-surface-color); padding: 8px 12px;\n",
              "         border-bottom: 1px solid var(--colab-border-color);\"><b>matplotlib.pyplot.show</b><br/>def show(*args, **kwargs)</pre><pre class=\"function-repr-contents function-repr-contents-collapsed\" style=\"\"><a class=\"filepath\" style=\"display:none\" href=\"#\">/usr/local/lib/python3.10/dist-packages/matplotlib/pyplot.py</a>Display all open figures.\n",
              "\n",
              "Parameters\n",
              "----------\n",
              "block : bool, optional\n",
              "    Whether to wait for all figures to be closed before returning.\n",
              "\n",
              "    If `True` block and run the GUI main loop until all figure windows\n",
              "    are closed.\n",
              "\n",
              "    If `False` ensure that all figure windows are displayed and return\n",
              "    immediately.  In this case, you are responsible for ensuring\n",
              "    that the event loop is running to have responsive figures.\n",
              "\n",
              "    Defaults to True in non-interactive mode and to False in interactive\n",
              "    mode (see `.pyplot.isinteractive`).\n",
              "\n",
              "See Also\n",
              "--------\n",
              "ion : Enable interactive mode, which shows / updates the figure after\n",
              "      every plotting command, so that calling ``show()`` is not necessary.\n",
              "ioff : Disable interactive mode.\n",
              "savefig : Save the figure to an image file instead of showing it on screen.\n",
              "\n",
              "Notes\n",
              "-----\n",
              "**Saving figures to file and showing a window at the same time**\n",
              "\n",
              "If you want an image file as well as a user interface window, use\n",
              "`.pyplot.savefig` before `.pyplot.show`. At the end of (a blocking)\n",
              "``show()`` the figure is closed and thus unregistered from pyplot. Calling\n",
              "`.pyplot.savefig` afterwards would save a new and thus empty figure. This\n",
              "limitation of command order does not apply if the show is non-blocking or\n",
              "if you keep a reference to the figure and use `.Figure.savefig`.\n",
              "\n",
              "**Auto-show in jupyter notebooks**\n",
              "\n",
              "The jupyter backends (activated via ``%matplotlib inline``,\n",
              "``%matplotlib notebook``, or ``%matplotlib widget``), call ``show()`` at\n",
              "the end of every cell by default. Thus, you usually don&#x27;t have to call it\n",
              "explicitly there.</pre>\n",
              "      <script>\n",
              "      if (google.colab.kernel.accessAllowed && google.colab.files && google.colab.files.view) {\n",
              "        for (const element of document.querySelectorAll('.filepath')) {\n",
              "          element.style.display = 'block'\n",
              "          element.onclick = (event) => {\n",
              "            event.preventDefault();\n",
              "            event.stopPropagation();\n",
              "            google.colab.files.view(element.textContent, 401);\n",
              "          };\n",
              "        }\n",
              "      }\n",
              "      for (const element of document.querySelectorAll('.function-repr-contents')) {\n",
              "        element.onclick = (event) => {\n",
              "          event.preventDefault();\n",
              "          event.stopPropagation();\n",
              "          element.classList.toggle('function-repr-contents-collapsed');\n",
              "        };\n",
              "      }\n",
              "      </script>\n",
              "      </div>"
            ]
          },
          "metadata": {},
          "execution_count": 7
        },
        {
          "output_type": "display_data",
          "data": {
            "text/plain": [
              "<Figure size 640x480 with 1 Axes>"
            ],
            "image/png": "[encoded data removed]"
          },
          "metadata": {}
        }
      ]
    },
    {
      "cell_type": "code",
      "source": [],
      "metadata": {
        "id": "xcRx4BLSYhAA"
      },
      "execution_count": null,
      "outputs": []
    },
    {
      "cell_type": "code",
      "source": [],
      "metadata": {
        "id": "jamv2KQRYMSb"
      },
      "execution_count": null,
      "outputs": []
    }
  ]
}